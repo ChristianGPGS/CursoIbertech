{
 "cells": [
  {
   "cell_type": "markdown",
   "metadata": {},
   "source": [
    "## Ejercicio5. Funciones Lambda"
   ]
  },
  {
   "cell_type": "markdown",
   "metadata": {},
   "source": [
    "A partir del siguiente listado de emails:\n",
    "lista_emails = [\"asdasdas.es\",\"asdas asdsdsa@sda.e\",\"asdasd@asdas@asdsad.es\", \"asdad@a.es\", \"a sgsdfsd@a.esfa.sfasdf\", \"asdas.dasd@as.dsfd.as.es \"]\n",
    "- obtener, los nombres de usuario de aquellos emails que sean validos (valido: 1@, no tiene espacios en blanco, despues de la @ hay 1 punto)\n",
    "- indicar el número de emails validos que hay dentro del listado\n"
   ]
  },
  {
   "cell_type": "code",
   "execution_count": 22,
   "metadata": {},
   "outputs": [
    {
     "name": "stdout",
     "output_type": "stream",
     "text": [
      "['asdad@a.es', 'asdas.dasd@as.dsfd.as.es'] 2\n"
     ]
    }
   ],
   "source": [
    "lista_emails = [\"asdasdas.es\",\"asdas asdsdsa@sda.e\",\"asdasd@asdas@asdsad.es\", \"asdad@a.es\", \"a sgsdfsd@a.esfa.sfasdf\", \"asdas.dasd@as.dsfd.as.es\"]\n",
    "\n",
    "validos = list(filter(lambda x: x.count(\"@\")==1 and x.count(\" \")==0 and x.split(\"@\")[-1].count(\".\")>=1, lista_emails))\n",
    "num_validos = len(validos)\n",
    "print(validos,num_validos)\n"
   ]
  }
 ],
 "metadata": {
  "kernelspec": {
   "display_name": "Python 3 (ipykernel)",
   "language": "python",
   "name": "python3"
  },
  "language_info": {
   "codemirror_mode": {
    "name": "ipython",
    "version": 3
   },
   "file_extension": ".py",
   "mimetype": "text/x-python",
   "name": "python",
   "nbconvert_exporter": "python",
   "pygments_lexer": "ipython3",
   "version": "3.9.13"
  }
 },
 "nbformat": 4,
 "nbformat_minor": 4
}
