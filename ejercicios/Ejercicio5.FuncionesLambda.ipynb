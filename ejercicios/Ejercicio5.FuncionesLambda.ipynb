{
 "cells": [
  {
   "cell_type": "markdown",
   "metadata": {},
   "source": [
    "## Ejercicio5. Funciones Lambda"
   ]
  },
  {
   "cell_type": "markdown",
   "metadata": {},
   "source": [
    "A partir del siguiente listado de emails:\n",
    "lista_emails = [\"asdasdas.es\",\"asdas asdsdsa@sda.e\",\"asdasd@asdas@asdsad.es\", \"asdad@a.es\", \"a sgsdfsd@a.esfa.sfasdf\", \"asdas.dasd@as.dsfd.as.es \"]\n",
    "- obtener, los nombres de usuario de aquellos emails que sean validos (valido: 1@, no tiene espacios en blanco, despues de la @ hay 1 punto)\n",
    "- indicar el número de emails validos que hay dentro del listado\n"
   ]
  },
  {
   "cell_type": "code",
   "execution_count": 20,
   "metadata": {},
   "outputs": [
    {
     "ename": "TypeError",
     "evalue": "<lambda>() takes 1 positional argument but 2 were given",
     "output_type": "error",
     "traceback": [
      "\u001b[1;31m---------------------------------------------------------------------------\u001b[0m",
      "\u001b[1;31mTypeError\u001b[0m                                 Traceback (most recent call last)",
      "Cell \u001b[1;32mIn [22], line 8\u001b[0m\n\u001b[0;32m      6\u001b[0m nombre_users \u001b[38;5;241m=\u001b[39m \u001b[38;5;28mlist\u001b[39m(\u001b[38;5;28mmap\u001b[39m(\u001b[38;5;28;01mlambda\u001b[39;00m x: x\u001b[38;5;241m.\u001b[39msplit(\u001b[38;5;124m\"\u001b[39m\u001b[38;5;124m@\u001b[39m\u001b[38;5;124m\"\u001b[39m)[\u001b[38;5;241m0\u001b[39m],validos))\n\u001b[0;32m      7\u001b[0m \u001b[38;5;66;03m#num_validos = len(validos)\u001b[39;00m\n\u001b[1;32m----> 8\u001b[0m num_validos \u001b[38;5;241m=\u001b[39m \u001b[43mreduce\u001b[49m\u001b[43m(\u001b[49m\u001b[43m(\u001b[49m\u001b[38;5;28;43;01mlambda\u001b[39;49;00m\u001b[43m \u001b[49m\u001b[43mx\u001b[49m\u001b[43m:\u001b[49m\u001b[43m \u001b[49m\u001b[43mx\u001b[49m\u001b[38;5;241;43m.\u001b[39;49m\u001b[43mcount\u001b[49m\u001b[43m(\u001b[49m\u001b[43mnombre_users\u001b[49m\u001b[43m)\u001b[49m\u001b[43m)\u001b[49m\u001b[43m,\u001b[49m\u001b[43mnombre_users\u001b[49m\u001b[43m)\u001b[49m\n\u001b[0;32m      9\u001b[0m \u001b[38;5;66;03m#test = list(map(lambda x: x.count(x)),nombre_users)\u001b[39;00m\n\u001b[0;32m     10\u001b[0m \u001b[38;5;66;03m#num_validos = reduce((lambda x: x.count(nombre)),nombre_users)\u001b[39;00m\n\u001b[0;32m     12\u001b[0m \u001b[38;5;28mprint\u001b[39m(nombre_users,num_validos)\n",
      "\u001b[1;31mTypeError\u001b[0m: <lambda>() takes 1 positional argument but 2 were given"
     ]
    }
   ],
   "source": [
    "from functools import reduce\n",
    "\n",
    "lista_emails = [\"asdasdas.es\",\"asdas asdsdsa@sda.e\",\"asdasd@asdas@asdsad.es\", \"asdad@a.es\", \"a sgsdfsd@a.esfa.sfasdf\", \"asdas.dasd@as.dsfd.as.es\"]\n",
    "\n",
    "validos = list(filter(lambda x: x.count(\"@\")==1 and x.count(\" \")==0 and x.split(\"@\")[-1].count(\".\")>=1, lista_emails))\n",
    "nombre_users = list(map(lambda x: x.split(\"@\")[0],validos))\n",
    "#num_validos = len(validos)\n",
    "#num_validos = reduce((lambda x, y: x+y),nombre_users)\n",
    "#test = list(map(lambda x: x.count(x)),nombre_users)\n",
    "#num_validos = reduce((lambda x: x.count(nombre)),nombre_users)\n",
    "\n",
    "print(nombre_users,num_validos)"
   ]
  }
 ],
 "metadata": {
  "kernelspec": {
   "display_name": "Python 3 (ipykernel)",
   "language": "python",
   "name": "python3"
  },
  "language_info": {
   "codemirror_mode": {
    "name": "ipython",
    "version": 3
   },
   "file_extension": ".py",
   "mimetype": "text/x-python",
   "name": "python",
   "nbconvert_exporter": "python",
   "pygments_lexer": "ipython3",
   "version": "3.9.13"
  }
 },
 "nbformat": 4,
 "nbformat_minor": 4
}
