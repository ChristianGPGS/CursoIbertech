{
 "cells": [
  {
   "cell_type": "markdown",
   "metadata": {},
   "source": [
    "# Ejercicio 6. Programacion Orientada Objetos"
   ]
  },
  {
   "cell_type": "markdown",
   "metadata": {},
   "source": [
    "**Crear la clase Alumno**  \n",
    "-nombre  \n",
    "-apellidos  \n",
    "-dni  \n",
    "-notas: diccionario <K:asignatura, V:nota>  \n",
    "estudiar() --> el alumno nombre esta estudiando asignatura obtenida de manera aleatoria del diccionario  \n",
    "    \n",
    "**    \n",
    "3 alumnos --> lista -->  \n",
    "    +Nota media de cada alumno --> El alumno nombre tiene una nota media de ...  \n",
    "    +Nota media de todos los alumnos --> La nota media de todos los alumnos es ...\n",
    "   \n",
    "Tradicional y usando funciones lambda\n"
   ]
  },
  {
   "cell_type": "code",
   "execution_count": 140,
   "metadata": {},
   "outputs": [],
   "source": [
    "from functools import reduce"
   ]
  },
  {
   "cell_type": "code",
   "execution_count": 84,
   "metadata": {},
   "outputs": [],
   "source": [
    "#Importamos random para hacer el metodo estudiar()\n",
    "import random\n",
    "#random.randint(1,3)\n",
    "#Clase alumno\n",
    "class Alumno:\n",
    "    #Constructor de la clase\n",
    "    #def __init__(self,nombre,apellidos,dni,notas = {\"Programacion\":\"\",\"LM\":\"\",\"BBDD\":\"\"}):\n",
    "    def __init__(self,nombre,apellidos,dni,notas = {}):\n",
    "        self.nombre = nombre\n",
    "        self.apellidos = apellidos\n",
    "        self.dni = dni\n",
    "        self.notas = notas\n",
    "        print(\"Se creó el alumno {}\".format(nombre))\n",
    "    #Método estudiar, devuelve una cadena de texto con el nombre de una asignatura aleatoria\n",
    "    def estudiar(self):\n",
    "        #Variable que hace que pueda sacar una key aleatoria\n",
    "        asignatura = list(self.notas.keys())\n",
    "        print(\"El alumno {} esta estudiando {}\".format(self.nombre,random.choice(asignatura)))\n"
   ]
  },
  {
   "cell_type": "code",
   "execution_count": 139,
   "metadata": {},
   "outputs": [],
   "source": [
    "#Metodo para crear a los alumnos\n",
    "def creacion_alumnos():\n",
    "    #Creamos los alumnos\n",
    "    alumno1 = Alumno(\"Christian\",\"Gutierrez\",\"123456789A\",notas ={\"Programacion\":10,\"LM\":10,\"BBDD\":10})\n",
    "    alumno2 = Alumno(\"A2\",\"A2\",\"A2\",notas ={\"Programacion\":5,\"LM\":7,\"BBDD\":3})\n",
    "    alumno3 = Alumno(\"A3\",\"A3\",\"A3\",notas ={\"Programacion\":7,\"LM\":2,\"BBDD\":1})\n",
    "    #Los añadimos a una lista\n",
    "    alumnos = [alumno1,alumno2,alumno3]\n",
    "    \n",
    "    imprimir_metodo_estudiar(alumnos)\n",
    "    nota_media_alumnos(alumnos)\n",
    "    nota_media_por_alumno(alumnos)\n",
    "    \n",
    "    "
   ]
  },
  {
   "cell_type": "code",
   "execution_count": 86,
   "metadata": {},
   "outputs": [],
   "source": [
    "#Metodo para imprimir el metodo estudiar\n",
    "def imprimir_metodo_estudiar(alumnos):\n",
    "    #Imprimimos que funciona el método estudiar\n",
    "    for i in range(len(alumnos)):\n",
    "        print(alumnos[i].estudiar())"
   ]
  },
  {
   "cell_type": "code",
   "execution_count": 146,
   "metadata": {},
   "outputs": [],
   "source": [
    "#Metodo para hacer la nota media por alumno\n",
    "def nota_media_por_alumno(alumnos):\n",
    "    print(\"\\n\\nMetodo nota_media_por_alumno\")\n",
    "    notas = []\n",
    "    media_alumno = []\n",
    "    #Recorro las notas y guardo la suma en una variable\n",
    "    for i in range(len(alumnos)):\n",
    "        notas.append(list(alumnos[i].notas.values()))\n",
    "        media_alumno.append(float(reduce((lambda x, y: x + y), notas[i],0)))\n",
    "        media = round(media_alumno[i]/len(notas),1)\n",
    "        print(\"La media del alumno {} es: {}\".format(alumnos[i].nombre,media))"
   ]
  },
  {
   "cell_type": "code",
   "execution_count": 141,
   "metadata": {},
   "outputs": [],
   "source": [
    "\n",
    "#Metodo para hacer la nota media de todos los alumnos\n",
    "def nota_media_alumnos(alumnos):\n",
    "    print(\"\\n\\nMetodo nota_media_alumno\")\n",
    "    notas = []\n",
    "    media = 0\n",
    "    #Recorro las notas y guardo la suma en una variable\n",
    "    for i in range(len(alumnos)):\n",
    "        notas.append(list(alumnos[i].notas.values()))\n",
    "        media += float(reduce((lambda x, y: x + y), notas[i],0))\n",
    "    #Hago la media entre la suma de las notas y el tamaño de las notas multiplicado por el tamaño de los alumnos\n",
    "    media = round(media/(len(notas)*len(alumnos)),1)\n",
    "    print(\"La media de los alumnos es: {}\".format(media))   "
   ]
  },
  {
   "cell_type": "code",
   "execution_count": 147,
   "metadata": {},
   "outputs": [
    {
     "name": "stdout",
     "output_type": "stream",
     "text": [
      "Se creó el alumno Christian\n",
      "Se creó el alumno A2\n",
      "Se creó el alumno A3\n",
      "El alumno Christian esta estudiando LM\n",
      "None\n",
      "El alumno A2 esta estudiando BBDD\n",
      "None\n",
      "El alumno A3 esta estudiando LM\n",
      "None\n",
      "\n",
      "\n",
      "Metodo nota_media_alumno\n",
      "La media de los alumnos es: 6.1\n",
      "\n",
      "\n",
      "Metodo nota_media_por_alumno\n",
      "La media del alumno Christian es: 30.0\n",
      "La media del alumno A2 es: 7.5\n",
      "La media del alumno A3 es: 3.3\n"
     ]
    }
   ],
   "source": [
    "creacion_alumnos()"
   ]
  }
 ],
 "metadata": {
  "kernelspec": {
   "display_name": "Python 3 (ipykernel)",
   "language": "python",
   "name": "python3"
  },
  "language_info": {
   "codemirror_mode": {
    "name": "ipython",
    "version": 3
   },
   "file_extension": ".py",
   "mimetype": "text/x-python",
   "name": "python",
   "nbconvert_exporter": "python",
   "pygments_lexer": "ipython3",
   "version": "3.9.13"
  }
 },
 "nbformat": 4,
 "nbformat_minor": 4
}
