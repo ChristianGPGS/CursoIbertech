{
 "cells": [
  {
   "cell_type": "markdown",
   "id": "d43a9ae9-b898-4bde-8f8d-009ea5336769",
   "metadata": {},
   "source": [
    "1 Colegio 3 aulas,\n",
    "\n",
    "al principio aula vacia\n",
    "\n",
    "1. Insertar aulmno --> En que aula quieres meter al alumno (1,2,3) --> DNI, Nombre, Apellidos \n",
    "2. Mostrar alumnos colegio --> Todos los alumnos del colegio por aula\n",
    "3. Mostrar alumnos aula --> Pregunta de que aula quiere mostrar los alumnos (1,2,3)\n",
    "4. Buscar alumno --> Pregunta por el DNI --> Muestra en el aula que esta el alumno con ese DNI, si existe\n",
    "5. Salir"
   ]
  },
  {
   "cell_type": "code",
   "execution_count": 9,
   "id": "2c15f44d-1216-4b67-b4a8-3c2a6f3a0005",
   "metadata": {},
   "outputs": [],
   "source": [
    "#Funcion que pide datos al usuario y devuelve el tipo de dato que se indique (por defecto str)\n",
    "def pide_datos(texto,tipo_a_devolver):\n",
    "    #Pedimos informacion al usuario\n",
    "    valor_introducido = input(texto)\n",
    "    if tipo_a_devolver == \"str\":\n",
    "        return valor_introducido\n",
    "    elif tipo_a_devolver == \"int\":\n",
    "        if valor_introducido.isdigit():\n",
    "            return int(valor_introducido)\n",
    "        else:\n",
    "            print(\"Valor incorrecto, vuelve a intentarlo\")\n",
    "            return pide_datos(testo,tipo_a_devolver)\n",
    "    "
   ]
  },
  {
   "cell_type": "code",
   "execution_count": 7,
   "id": "935ea888-2128-4575-946b-6fa197630e6d",
   "metadata": {},
   "outputs": [],
   "source": [
    "def pinta_menu(menu = None):\n",
    "    if menu==None:\n",
    "        menu = \"\\n1. Insertar aulmno\\n2. Mostrar alumnos colegio\\n3. Mostrar alumnos aula\\n4. Buscar alumno\\n5. Borrar Alumno\\n6. Salir\\n\"\n",
    "    return pide_datos(menu,\"int\")"
   ]
  },
  {
   "cell_type": "code",
   "execution_count": 11,
   "id": "8cf56d81-76db-47c0-a7b6-bb63c31e3401",
   "metadata": {},
   "outputs": [],
   "source": [
    "colegio = {\"Aula1\":{},\"Aula2\":{},\"Aula3\":{}}"
   ]
  },
  {
   "cell_type": "code",
   "execution_count": 8,
   "id": "80c4050d-9075-469b-8734-ae374cdb168a",
   "metadata": {},
   "outputs": [
    {
     "name": "stdin",
     "output_type": "stream",
     "text": [
      "\n",
      "1. Insertar aulmno\n",
      "2. Mostrar alumnos colegio\n",
      "3. Mostrar alumnos aula\n",
      "4. Buscar alumno\n",
      "5. Borrar Alumno\n",
      "6. Salir\n",
      " 1\n",
      "\n",
      "1. Insertar aulmno\n",
      "2. Mostrar alumnos colegio\n",
      "3. Mostrar alumnos aula\n",
      "4. Buscar alumno\n",
      "5. Borrar Alumno\n",
      "6. Salir\n",
      " 6\n"
     ]
    },
    {
     "name": "stdout",
     "output_type": "stream",
     "text": [
      "Saliendo\n"
     ]
    }
   ],
   "source": [
    "opcion = 0\n",
    "opcion_salir = False\n",
    "while not opcion_salir:\n",
    "    #Pintamos el menu y pedimos la opcion\n",
    "    opcion = pinta_menu()\n",
    "    \n",
    "    #Controlamos las distintas opciones\n",
    "    if opcion == 1:\n",
    "        pass\n",
    "    elif opcion == 2:\n",
    "        pass\n",
    "    elif opcion == 3:\n",
    "        pass\n",
    "    elif opcion ==4:\n",
    "        pass\n",
    "    elif opcion == 5:\n",
    "        pass\n",
    "    elif opcion == 6:\n",
    "        print(\"Saliendo\")\n",
    "        opcion_salir = True"
   ]
  }
 ],
 "metadata": {
  "kernelspec": {
   "display_name": "Python 3 (ipykernel)",
   "language": "python",
   "name": "python3"
  },
  "language_info": {
   "codemirror_mode": {
    "name": "ipython",
    "version": 3
   },
   "file_extension": ".py",
   "mimetype": "text/x-python",
   "name": "python",
   "nbconvert_exporter": "python",
   "pygments_lexer": "ipython3",
   "version": "3.9.13"
  }
 },
 "nbformat": 4,
 "nbformat_minor": 5
}
