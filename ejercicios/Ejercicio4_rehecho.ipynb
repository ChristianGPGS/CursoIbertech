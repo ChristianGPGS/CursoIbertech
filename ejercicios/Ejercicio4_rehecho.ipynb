{
 "cells": [
  {
   "cell_type": "markdown",
   "id": "d43a9ae9-b898-4bde-8f8d-009ea5336769",
   "metadata": {},
   "source": [
    "1 Colegio 3 aulas,\n",
    "\n",
    "al principio aula vacia\n",
    "\n",
    "1. Insertar aulmno --> En que aula quieres meter al alumno (1,2,3) --> DNI, Nombre, Apellidos \n",
    "2. Mostrar alumnos colegio --> Todos los alumnos del colegio por aula\n",
    "3. Mostrar alumnos aula --> Pregunta de que aula quiere mostrar los alumnos (1,2,3)\n",
    "4. Buscar alumno --> Pregunta por el DNI --> Muestra en el aula que esta el alumno con ese DNI, si existe\n",
    "5. Salir"
   ]
  },
  {
   "cell_type": "code",
   "execution_count": 2,
   "id": "2c15f44d-1216-4b67-b4a8-3c2a6f3a0005",
   "metadata": {},
   "outputs": [],
   "source": [
    "#Funcion que pide datos al usuario y devuelve el tipo de dato que se indique (por defecto str)\n",
    "def pide_datos(texto,tipo_a_devolver=\"str\"):\n",
    "    #Pedimos informacion al usuario\n",
    "    valor_introducido = input(texto)\n",
    "    if tipo_a_devolver == \"str\":\n",
    "        return valor_introducido\n",
    "    elif tipo_a_devolver == \"int\":\n",
    "        if valor_introducido.isdigit():\n",
    "            return int(valor_introducido)\n",
    "        else:\n",
    "            print(\"Valor incorrecto, vuelve a intentarlo\")\n",
    "            return pide_datos(testo,tipo_a_devolver)\n",
    "    "
   ]
  },
  {
   "cell_type": "code",
   "execution_count": 3,
   "id": "8cf56d81-76db-47c0-a7b6-bb63c31e3401",
   "metadata": {},
   "outputs": [],
   "source": [
    "colegio = {\"Aula1\":{},\"Aula2\":{},\"Aula3\":{}}"
   ]
  },
  {
   "cell_type": "code",
   "execution_count": 4,
   "id": "935ea888-2128-4575-946b-6fa197630e6d",
   "metadata": {},
   "outputs": [],
   "source": [
    "#Funcion para pintar un menu, muestra menu por defecto en caso de que no se pase nada\n",
    "def pinta_menu(menu = None):\n",
    "    if menu==None:\n",
    "        menu = \"\\n1. Insertar aulmno\\n2. Mostrar alumnos colegio\\n3. Mostrar alumnos aula\\n4. Buscar alumno\\n5. Borrar Alumno\\n6. Salir\\n\"\n",
    "    \n",
    "    return pide_datos(menu,\"int\")"
   ]
  },
  {
   "cell_type": "code",
   "execution_count": 5,
   "id": "f1d119f1-d574-4141-93ba-337d0c87f19b",
   "metadata": {},
   "outputs": [],
   "source": [
    "#Funcion para insertar los datos de nuevos alumnos en el colegio\n",
    "def insertar_alumno():\n",
    "    #Solicitamos el aula\n",
    "    aula = pide_aula ()\n",
    "    print(aula)\n",
    "    #Solicitamos datos del alumno\n",
    "    alumno = pedir_datos_alumno()\n",
    "    #Metemos al alumno dentro del aula del colegio\n",
    "    colegio.get(aula).update(alumno)\n",
    "    \n",
    "   "
   ]
  },
  {
   "cell_type": "code",
   "execution_count": 6,
   "id": "1dda3437-039a-413c-8cd7-518428f1a1c2",
   "metadata": {},
   "outputs": [],
   "source": [
    "#Creamos un diccionario con los datos solicitados del alumno\n",
    "def pedir_datos_alumno():\n",
    "    dni = pide_datos(\"Introduce el dni del alumno\")\n",
    "    nombre = pide_datos(\"Introduce el nombre del alumno\")\n",
    "    apellidos = pide_datos(\"Introduce los apellidos del alumno\")\n",
    "    \n",
    "    alumno = {dni:[nombre,apellidos]}\n",
    "    \n",
    "    return alumno"
   ]
  },
  {
   "cell_type": "code",
   "execution_count": 7,
   "id": "c81dc9da-5176-4c07-914d-3fcc8313e7a0",
   "metadata": {},
   "outputs": [],
   "source": [
    "#Funcion para pedir el aula\n",
    "def pide_aula ():\n",
    "    aulas_dict = colegio.keys()\n",
    "    aula = pide_datos(\"Selecciona el aula (\"+str(list(aulas_dict))+\")\")\n",
    "   \n",
    "    if (not aula in colegio):\n",
    "        #Aula incorrecta volvemos a llamar al método para que lo vuelva a introducir\n",
    "        print(\"Aula seleccionada no existe\")\n",
    "        pide_aula()\n",
    "    else:\n",
    "        return aula"
   ]
  },
  {
   "cell_type": "code",
   "execution_count": 8,
   "id": "9a8f8f82-ed9b-4ffc-a739-518be3c1dcc9",
   "metadata": {},
   "outputs": [],
   "source": [
    "#Funcion para mostrar los alumnos del colegio o por aula en el caso de que lo indiquen\n",
    "def mostrar_alumnos(aula_param=None):\n",
    "    #Recorremos las aulas del colegio\n",
    "    for aula, alumnos in colegio.items():\n",
    "        if aula_param==None or aula_param==aula:\n",
    "            print(\"Alumnos del \",aula)\n",
    "            for dni, datos_alumno in alumnos.items():\n",
    "                print(\"\\tdni: {}, nombre: {}, apellidos: {}\".format(dni,datos_alumno[0],datos_alumno[1]))\n",
    "            \n",
    "            #Solo en el caso que me pasen el aula no tengo que seguir recorriendo todas las aulas\n",
    "            if not aula_param == None:\n",
    "                return"
   ]
  },
  {
   "cell_type": "code",
   "execution_count": 9,
   "id": "fd47ac69-3e3d-499e-bce5-656e5aa70f30",
   "metadata": {},
   "outputs": [],
   "source": [
    "def buscar_alumno(dni):\n",
    "    aula = buscar_aula_alumno(dni)\n",
    "    mensaje = \"no está en el colegio\" if aula == None else \"está en el \"+aula\n",
    "    print(\"El alumno \"+ mensaje)"
   ]
  },
  {
   "cell_type": "code",
   "execution_count": 10,
   "id": "539871f9-c583-47ae-8fb3-05681de30e91",
   "metadata": {},
   "outputs": [],
   "source": [
    "#Funcion para borrar un alumno del colegio a partir de su dni\n",
    "def borrar_alumno(dni):\n",
    "    aula = buscar_aula_alumno(dni)\n",
    "    if aula == None:\n",
    "        print(\"El alumno no está en el colegio\")\n",
    "    else:\n",
    "        diccionario_alumnos = colegio.get(aula)\n",
    "        del diccionario_alumnos[dni]\n",
    "        print(\"Alumno con dni {} eliminado del aula {}\".format(dni,aula))"
   ]
  },
  {
   "cell_type": "code",
   "execution_count": 11,
   "id": "434bc8f1-ea94-406d-b3b9-301abaed3b3f",
   "metadata": {},
   "outputs": [],
   "source": [
    "#Funcion para buscar el aula donde se encuentra un alumno a partir de su dni\n",
    "def buscar_aula_alumno(dni):\n",
    "    #Recorremos las aulas del colegio\n",
    "    for aula, alumnos in colegio.items():\n",
    "        if dni in alumnos:\n",
    "            return aula\n",
    "        \n",
    "    return None"
   ]
  },
  {
   "cell_type": "code",
   "execution_count": 12,
   "id": "80c4050d-9075-469b-8734-ae374cdb168a",
   "metadata": {},
   "outputs": [
    {
     "name": "stdin",
     "output_type": "stream",
     "text": [
      "\n",
      "1. Insertar aulmno\n",
      "2. Mostrar alumnos colegio\n",
      "3. Mostrar alumnos aula\n",
      "4. Buscar alumno\n",
      "5. Borrar Alumno\n",
      "6. Salir\n",
      " 1\n",
      "Selecciona el aula (['Aula1', 'Aula2', 'Aula3']) Aula1\n"
     ]
    },
    {
     "name": "stdout",
     "output_type": "stream",
     "text": [
      "Aula1\n"
     ]
    },
    {
     "name": "stdin",
     "output_type": "stream",
     "text": [
      "Introduce el dni del alumno 1\n",
      "Introduce el nombre del alumno a\n",
      "Introduce los apellidos del alumno a\n",
      "\n",
      "1. Insertar aulmno\n",
      "2. Mostrar alumnos colegio\n",
      "3. Mostrar alumnos aula\n",
      "4. Buscar alumno\n",
      "5. Borrar Alumno\n",
      "6. Salir\n",
      " 2\n"
     ]
    },
    {
     "name": "stdout",
     "output_type": "stream",
     "text": [
      "Alumnos del  Aula1\n",
      "\tdni: 1, nombre: a, apellidos: a\n",
      "Alumnos del  Aula2\n",
      "Alumnos del  Aula3\n"
     ]
    },
    {
     "name": "stdin",
     "output_type": "stream",
     "text": [
      "\n",
      "1. Insertar aulmno\n",
      "2. Mostrar alumnos colegio\n",
      "3. Mostrar alumnos aula\n",
      "4. Buscar alumno\n",
      "5. Borrar Alumno\n",
      "6. Salir\n",
      " 6\n"
     ]
    },
    {
     "name": "stdout",
     "output_type": "stream",
     "text": [
      "Saliendo\n"
     ]
    }
   ],
   "source": [
    "opcion = 0\n",
    "opcion_salir = False\n",
    "while not opcion_salir:\n",
    "    #Pintamos el menu y pedimos la opcion\n",
    "    opcion = pinta_menu()\n",
    "    \n",
    "    #Controlamos las distintas opciones\n",
    "    if opcion == 1:\n",
    "        insertar_alumno()\n",
    "    elif opcion == 2:\n",
    "        mostrar_alumnos()\n",
    "    elif opcion == 3:\n",
    "        mostrar_alumnos(pide_aula())\n",
    "    elif opcion ==4:\n",
    "        buscar_alumno(pide_datos(\"Escribe el dni del alumno a buscar\"))\n",
    "    elif opcion == 5:\n",
    "        borrar_alumno(pide_datos(\"Escribe el dni del alumno a borrar\"))\n",
    "    elif opcion == 6:\n",
    "        print(\"Saliendo\")\n",
    "        opcion_salir = True"
   ]
  }
 ],
 "metadata": {
  "kernelspec": {
   "display_name": "Python 3 (ipykernel)",
   "language": "python",
   "name": "python3"
  },
  "language_info": {
   "codemirror_mode": {
    "name": "ipython",
    "version": 3
   },
   "file_extension": ".py",
   "mimetype": "text/x-python",
   "name": "python",
   "nbconvert_exporter": "python",
   "pygments_lexer": "ipython3",
   "version": "3.9.13"
  }
 },
 "nbformat": 4,
 "nbformat_minor": 5
}
