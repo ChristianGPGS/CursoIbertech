{
 "cells": [
  {
   "cell_type": "markdown",
   "id": "7f3ee3b2-7c0a-4d4a-8a65-fceb30ba483e",
   "metadata": {},
   "source": [
    "## Ejercicio 1"
   ]
  },
  {
   "cell_type": "markdown",
   "id": "2ca7993d-e3c3-4989-8bd9-d3b429c9c55e",
   "metadata": {},
   "source": [
    "Pintar menu mientras que la opcion sea diferente de 4\n",
    "\n",
    "1. Pintar cuadrado --> \"Has seleccionado la opcion 1\"\n",
    "2. Validar un email --> \"Has seleccionado la opcion 2\"\n",
    "lista con 3 emails, validar cada uno de los emails, sin un email no es valido vais a indicar que no es correcto y los motivos por los que no es correcto\n",
    "(usar el format para poner el email)\n",
    "    -no puede tener espacios en blanco\n",
    "    -solo 1 @\n",
    "    -la distancia entre el @ y el punto tiene que ser al menos de 2 caracteres\n",
    "    -despues del @ tiene que haber al menos 1 punto\n",
    "    -despues del ultimo punto tiene que haber entre 2 y 5 caracteres\n",
    "    \n",
    "3. Insertar alumnos --> \"Has seleccionado la opcion 3\"\n",
    "4. Salir --> \"Has seleccionado la opcion 4, Adios!\""
   ]
  },
  {
   "cell_type": "code",
   "execution_count": 5,
   "id": "c4db7699-51c5-4785-8f39-8bd764eecee4",
   "metadata": {},
   "outputs": [
    {
     "name": "stdout",
     "output_type": "stream",
     "text": [
      "1. Pintar Cuadrado\n",
      "2. Validar un email\n",
      "3. Insertar Alumnos\n",
      "4. Salir\n"
     ]
    },
    {
     "name": "stdin",
     "output_type": "stream",
     "text": [
      "Seleccione la opcion, 4 para salir\n",
      "\n",
      " 1\n",
      "Introduzca el tamanio del cuadrado 4\n"
     ]
    },
    {
     "name": "stdout",
     "output_type": "stream",
     "text": [
      "* * * * \n",
      "*     *\n",
      "*     *\n",
      "* * * * \n",
      "1. Pintar Cuadrado\n",
      "2. Validar un email\n",
      "3. Insertar Alumnos\n",
      "4. Salir\n"
     ]
    },
    {
     "name": "stdin",
     "output_type": "stream",
     "text": [
      "Seleccione la opcion, 4 para salir\n",
      "\n",
      " 1\n",
      "Introduzca el tamanio del cuadrado 6\n"
     ]
    },
    {
     "name": "stdout",
     "output_type": "stream",
     "text": [
      "* * * * * * \n",
      "*         *\n",
      "*         *\n",
      "*         *\n",
      "*         *\n",
      "* * * * * * \n",
      "1. Pintar Cuadrado\n",
      "2. Validar un email\n",
      "3. Insertar Alumnos\n",
      "4. Salir\n"
     ]
    },
    {
     "name": "stdin",
     "output_type": "stream",
     "text": [
      "Seleccione la opcion, 4 para salir\n",
      "\n",
      " 4\n"
     ]
    },
    {
     "name": "stdout",
     "output_type": "stream",
     "text": [
      "Has seleccionado la opcion 4.\n",
      "Saliendo\n"
     ]
    }
   ],
   "source": [
    "#import os\n",
    "\n",
    "option = 0\n",
    "while option != 4 :\n",
    "    print(\"1. Pintar Cuadrado\\n2. Validar un email\\n3. Insertar Alumnos\\n4. Salir\")\n",
    "    option = int(input(\"Seleccione la opcion, 4 para salir\\n\\n\")) \n",
    "    if option == 1:\n",
    "        #os.system(\"cls\")\n",
    "        size = int(input(\"Introduzca el tamanio del cuadrado\"))\n",
    "        caracter = \"*\"\n",
    "        linea_superior_inferior = (caracter+\" \")\n",
    "        for i in range(size):\n",
    "                if i == 0 or i == size-1:\n",
    "                    print(size*linea_superior_inferior)\n",
    "                else:\n",
    "                    #print(caracter,end=\"\")\n",
    "                    #cadena = \" \" * (size+1)\n",
    "                    #print(cadena,end=\"\")\n",
    "                    #print(caracter)\n",
    "                    print(caracter+(' '*(len(size*linea_superior_inferior)-3))+caracter)\n",
    "        \n",
    "    elif option == 2:\n",
    "        #os.system(\"cls\")\n",
    "        \n",
    "    elif option == 3:\n",
    "        #os.system(\"cls\")\n",
    "        print(\"Has seleccionado la opcion 3\\n\")\n",
    "    elif option == 4:\n",
    "        #os.system(\"cls\")\n",
    "        print(\"Has seleccionado la opcion 4.\\nSaliendo\")\n",
    "    else:\n",
    "        print(\"Opcion invalida\")"
   ]
  },
  {
   "cell_type": "code",
   "execution_count": 53,
   "id": "7bda29ca-8211-43aa-9df0-50687ca8cfda",
   "metadata": {},
   "outputs": [
    {
     "name": "stdout",
     "output_type": "stream",
     "text": [
      "El email 'c   @gmail.com' es incorrecto\n",
      "El email 'c.com' es incorrecto\n",
      "El email 'c@@.com' es incorrecto\n",
      "El email 'christian@.com' es correcto\n",
      "El email 'christan@gmailcom' es incorrecto\n",
      "El email 'christian@gmail.c' es incorrecto\n",
      "El email 'christian@gmail.com' es incorrecto\n"
     ]
    }
   ],
   "source": [
    "#validacion de emails\n",
    "emails = [\"c   @gmail.com\",\"c.com\",\"c@@.com\",\"christian@.com\",\"christan@gmailcom\",\"christian@gmail.c\",\"christian@gmail.com \"]\n",
    "\n",
    "\n",
    "for email in emails:\n",
    "    email = email.strip()\n",
    "    mistakes = \"\"\n",
    "    if email.count(' ') > 0: #espacios en blanco\n",
    "        mistakes += \"No puede tener espacios en blanco\"\n",
    "    if not email.count('@')==1: #numero @\n",
    "        mistakes += \"Tiene que tener 1 '@'\"\n",
    "    if not email.split(\"@\")[-1].count(\".\")>=1: #minimo de puntos\n",
    "        mistakes += \"Tiene que tener minimo 1 '.'\"\n",
    "    if email[email.find(\"@\")+1: ].find(\".\")>1: #minimo caracteres despues de @\n",
    "        mistakes += \"Tiene que tener minimo 2 caracteres despues del '@'\"\n",
    "    if len(email.split(\".\")[-1]) < 2 or len(email.split(\".\")[-1]) > 5: #entre 2 y 5 caracteres despues del punto\n",
    "        mistakes += \"Tiene que tener entre 2 y 5 caracteres despues del '.'\"\n",
    "    \n",
    "    if mistakes == \"\":\n",
    "        print(\"El email '{}' es correcto\".format(email))\n",
    "    else:\n",
    "        print(\"El email '{}' es incorrecto\".format(email))\n",
    "    \n",
    "        "
   ]
  }
 ],
 "metadata": {
  "kernelspec": {
   "display_name": "Python 3 (ipykernel)",
   "language": "python",
   "name": "python3"
  },
  "language_info": {
   "codemirror_mode": {
    "name": "ipython",
    "version": 3
   },
   "file_extension": ".py",
   "mimetype": "text/x-python",
   "name": "python",
   "nbconvert_exporter": "python",
   "pygments_lexer": "ipython3",
   "version": "3.9.13"
  }
 },
 "nbformat": 4,
 "nbformat_minor": 5
}
