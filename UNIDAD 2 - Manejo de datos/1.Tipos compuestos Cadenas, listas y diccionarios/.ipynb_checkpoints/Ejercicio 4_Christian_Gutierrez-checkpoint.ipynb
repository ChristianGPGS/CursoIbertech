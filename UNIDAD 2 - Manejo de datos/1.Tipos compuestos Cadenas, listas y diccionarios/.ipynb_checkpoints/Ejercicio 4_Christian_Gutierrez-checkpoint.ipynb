{
 "cells": [
  {
   "cell_type": "markdown",
   "id": "cccc0cdf-658f-4043-928c-0070fa18446d",
   "metadata": {},
   "source": [
    "# Ejercicio 4 | Colecciones colegio \n",
    "\n"
   ]
  },
  {
   "cell_type": "markdown",
   "id": "60b2a92e-9bbc-4679-9462-5a678d065b24",
   "metadata": {},
   "source": [
    "1 Colegio 3 aulas,\n",
    "\n",
    "al principio aula vacia\n",
    "\n",
    "1. Insertar aulmno --> En que aula quieres meter al alumno (1,2,3) --> DNI, Nombre, Apellidos \n",
    "2. Mostrar alumnos colegio --> Todos los alumnos del colegio por aula\n",
    "3. Mostrar alumnos aula --> Pregunta de que aula quiere mostrar los alumnos (1,2,3)\n",
    "4. Buscar alumno --> Pregunta por el DNI --> Muestra en el aula que esta el alumno con ese DNI, si existe\n",
    "5. Salir"
   ]
  },
  {
   "cell_type": "code",
   "execution_count": 24,
   "id": "af8caa60-ce78-44c2-8aa3-569c1c3ae27c",
   "metadata": {},
   "outputs": [
    {
     "name": "stdout",
     "output_type": "stream",
     "text": [
      "\n",
      "1. Insertar aulmno\n",
      "2. Mostrar alumnos colegio\n",
      "3. Mostrar alumnos aula\n",
      "4. Buscar alumno\n",
      "5. Salir\n"
     ]
    },
    {
     "name": "stdin",
     "output_type": "stream",
     "text": [
      "Seleccione la opcion, 5 para salir\n",
      "\n",
      " 1\n"
     ]
    },
    {
     "name": "stdout",
     "output_type": "stream",
     "text": [
      "Has seleccionado la opcion de añadir alumno\n"
     ]
    },
    {
     "name": "stdin",
     "output_type": "stream",
     "text": [
      "En que clase quiere añadirlo? 1/2/3 1\n",
      "Introduce el DNI del alumno 1\n",
      "Introduce el nombre del alumno 1\n",
      "Introduce los apellidos del alumno 1\n"
     ]
    },
    {
     "name": "stdout",
     "output_type": "stream",
     "text": [
      "\n",
      "1. Insertar aulmno\n",
      "2. Mostrar alumnos colegio\n",
      "3. Mostrar alumnos aula\n",
      "4. Buscar alumno\n",
      "5. Salir\n"
     ]
    },
    {
     "name": "stdin",
     "output_type": "stream",
     "text": [
      "Seleccione la opcion, 5 para salir\n",
      "\n",
      " 1\n"
     ]
    },
    {
     "name": "stdout",
     "output_type": "stream",
     "text": [
      "Has seleccionado la opcion de añadir alumno\n"
     ]
    },
    {
     "name": "stdin",
     "output_type": "stream",
     "text": [
      "En que clase quiere añadirlo? 1/2/3 2\n",
      "Introduce el DNI del alumno 2\n",
      "Introduce el nombre del alumno 2\n",
      "Introduce los apellidos del alumno 2\n"
     ]
    },
    {
     "name": "stdout",
     "output_type": "stream",
     "text": [
      "\n",
      "1. Insertar aulmno\n",
      "2. Mostrar alumnos colegio\n",
      "3. Mostrar alumnos aula\n",
      "4. Buscar alumno\n",
      "5. Salir\n"
     ]
    },
    {
     "name": "stdin",
     "output_type": "stream",
     "text": [
      "Seleccione la opcion, 5 para salir\n",
      "\n",
      " 1\n"
     ]
    },
    {
     "name": "stdout",
     "output_type": "stream",
     "text": [
      "Has seleccionado la opcion de añadir alumno\n"
     ]
    },
    {
     "name": "stdin",
     "output_type": "stream",
     "text": [
      "En que clase quiere añadirlo? 1/2/3 3\n",
      "Introduce el DNI del alumno 3\n",
      "Introduce el nombre del alumno 3\n",
      "Introduce los apellidos del alumno 3\n"
     ]
    },
    {
     "name": "stdout",
     "output_type": "stream",
     "text": [
      "\n",
      "1. Insertar aulmno\n",
      "2. Mostrar alumnos colegio\n",
      "3. Mostrar alumnos aula\n",
      "4. Buscar alumno\n",
      "5. Salir\n"
     ]
    },
    {
     "name": "stdin",
     "output_type": "stream",
     "text": [
      "Seleccione la opcion, 5 para salir\n",
      "\n",
      " 1\n"
     ]
    },
    {
     "name": "stdout",
     "output_type": "stream",
     "text": [
      "Has seleccionado la opcion de añadir alumno\n"
     ]
    },
    {
     "name": "stdin",
     "output_type": "stream",
     "text": [
      "En que clase quiere añadirlo? 1/2/3 1\n",
      "Introduce el DNI del alumno 1\n",
      "Introduce el nombre del alumno 2\n",
      "Introduce los apellidos del alumno 3\n"
     ]
    },
    {
     "name": "stdout",
     "output_type": "stream",
     "text": [
      "\n",
      "1. Insertar aulmno\n",
      "2. Mostrar alumnos colegio\n",
      "3. Mostrar alumnos aula\n",
      "4. Buscar alumno\n",
      "5. Salir\n"
     ]
    },
    {
     "name": "stdin",
     "output_type": "stream",
     "text": [
      "Seleccione la opcion, 5 para salir\n",
      "\n",
      " 2\n"
     ]
    },
    {
     "name": "stdout",
     "output_type": "stream",
     "text": [
      "Has seleccionado la opcion de Mostrar alumnos colegio\n",
      "clase1:[{'1': '1 1'}, {'1': '2 3'}]\n",
      "clase2:[{'2': '2 2'}]\n",
      "clase3:[{'3': '3 3'}]\n",
      "\n",
      "1. Insertar aulmno\n",
      "2. Mostrar alumnos colegio\n",
      "3. Mostrar alumnos aula\n",
      "4. Buscar alumno\n",
      "5. Salir\n"
     ]
    },
    {
     "name": "stdin",
     "output_type": "stream",
     "text": [
      "Seleccione la opcion, 5 para salir\n",
      "\n",
      " 3\n"
     ]
    },
    {
     "name": "stdout",
     "output_type": "stream",
     "text": [
      "Has seleccionado la opcion de Mostrar alumnos aula\n"
     ]
    },
    {
     "name": "stdin",
     "output_type": "stream",
     "text": [
      "Seleccione el aula que quiere mostrar 1\n"
     ]
    },
    {
     "name": "stdout",
     "output_type": "stream",
     "text": [
      "clase1:[{'1': '1 1'}, {'1': '2 3'}]\n",
      "\n",
      "1. Insertar aulmno\n",
      "2. Mostrar alumnos colegio\n",
      "3. Mostrar alumnos aula\n",
      "4. Buscar alumno\n",
      "5. Salir\n"
     ]
    },
    {
     "name": "stdin",
     "output_type": "stream",
     "text": [
      "Seleccione la opcion, 5 para salir\n",
      "\n",
      " 3\n"
     ]
    },
    {
     "name": "stdout",
     "output_type": "stream",
     "text": [
      "Has seleccionado la opcion de Mostrar alumnos aula\n"
     ]
    },
    {
     "name": "stdin",
     "output_type": "stream",
     "text": [
      "Seleccione el aula que quiere mostrar 2\n"
     ]
    },
    {
     "name": "stdout",
     "output_type": "stream",
     "text": [
      "clase2:[{'2': '2 2'}]\n",
      "\n",
      "1. Insertar aulmno\n",
      "2. Mostrar alumnos colegio\n",
      "3. Mostrar alumnos aula\n",
      "4. Buscar alumno\n",
      "5. Salir\n"
     ]
    },
    {
     "name": "stdin",
     "output_type": "stream",
     "text": [
      "Seleccione la opcion, 5 para salir\n",
      "\n",
      " 5\n"
     ]
    },
    {
     "name": "stdout",
     "output_type": "stream",
     "text": [
      "Has seleccionado la opcion 5.\n",
      "Saliendo\n"
     ]
    }
   ],
   "source": [
    "option = 0\n",
    "clase1 = []\n",
    "clase2 = []\n",
    "clase3 = []\n",
    "colegio = {'clase1': clase1, 'clase2': clase2, 'clase3': clase3}\n",
    "while option != 5:\n",
    "    print(\"\\n1. Insertar aulmno\\n2. Mostrar alumnos colegio\\n3. Mostrar alumnos aula\\n4. Buscar alumno\\n5. Salir\")\n",
    "    option = int(input(\"Seleccione la opcion, 5 para salir\\n\\n\"))\n",
    "    if option == 1:\n",
    "        print(\"Has seleccionado la opcion de añadir alumno\")\n",
    "        classroom = input(\"En que clase quiere añadirlo? 1/2/3\")\n",
    "        DNI = input(\"Introduce el DNI del alumno\")\n",
    "        name = input(\"Introduce el nombre del alumno\")\n",
    "        last_name = input(\"Introduce los apellidos del alumno\")\n",
    "        if 'clase' + classroom == \"clase1\":\n",
    "            clase1.append({DNI: name + \" \" + last_name})\n",
    "            colegio['clase' + classroom] = clase1\n",
    "        elif 'clase' + classroom == \"clase2\":\n",
    "            clase2.append({DNI: name + \" \" + last_name})\n",
    "            colegio['clase' + classroom] = clase2\n",
    "        elif 'clase' + classroom == \"clase3\":\n",
    "            clase3.append({DNI: name + \" \" + last_name})\n",
    "            colegio['clase' + classroom] = clase3\n",
    "        else:\n",
    "            print(\"Esa clase no existe\")\n",
    "    elif option == 2:\n",
    "        print(\"Has seleccionado la opcion de Mostrar alumnos colegio\")\n",
    "        for clase in colegio:\n",
    "            print(clase + \":\" + str(colegio[clase]))\n",
    "    elif option == 3:\n",
    "        print(\"Has seleccionado la opcion de Mostrar alumnos aula\")\n",
    "        classroom = 'clase' + input(\"Seleccione el aula que quiere mostrar\")\n",
    "        for clase in colegio:\n",
    "            if clase == classroom:\n",
    "                print(clase + \":\" + str(colegio[clase]))\n",
    "    elif option == 4:\n",
    "        print(\"Has seleccionado la opcion de Buscar alumno\")\n",
    "        dni = str(input(\"Introduce el DNI del alumno a buscar\"))\n",
    "        for clase in colegio:\n",
    "            if str(colegio[clase]).count(dni) > 0:\n",
    "                clase_cortada = str(colegio[clase]).split(\",\")\n",
    "                #print(clase +\":\"+ str(colegio[clase]))\n",
    "    elif option == 5:\n",
    "        print(\"Has seleccionado la opcion 5.\\nSaliendo\")\n",
    "    else:\n",
    "        print(\"Opcion invalida\")"
   ]
  }
 ],
 "metadata": {
  "kernelspec": {
   "display_name": "Python 3 (ipykernel)",
   "language": "python",
   "name": "python3"
  },
  "language_info": {
   "codemirror_mode": {
    "name": "ipython",
    "version": 3
   },
   "file_extension": ".py",
   "mimetype": "text/x-python",
   "name": "python",
   "nbconvert_exporter": "python",
   "pygments_lexer": "ipython3",
   "version": "3.9.13"
  }
 },
 "nbformat": 4,
 "nbformat_minor": 5
}
