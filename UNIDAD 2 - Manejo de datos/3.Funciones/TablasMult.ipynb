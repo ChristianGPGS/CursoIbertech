{
 "cells": [
  {
   "cell_type": "code",
   "execution_count": 4,
   "id": "7c2f3b69-e0a4-4c97-bc48-211e62319c32",
   "metadata": {},
   "outputs": [
    {
     "name": "stdin",
     "output_type": "stream",
     "text": [
      "Introduce el numero 5\n"
     ]
    },
    {
     "name": "stdout",
     "output_type": "stream",
     "text": [
      "5 x 0 = 0\n",
      "5 x 1 = 5\n",
      "5 x 2 = 10\n",
      "5 x 3 = 15\n",
      "5 x 4 = 20\n",
      "5 x 5 = 25\n",
      "5 x 6 = 30\n",
      "5 x 7 = 35\n",
      "5 x 8 = 40\n",
      "5 x 9 = 45\n",
      "5 x 10 = 50\n"
     ]
    }
   ],
   "source": [
    "def tabla_mult(mult):\n",
    "    for numero in range(11):\n",
    "        print(\"{} x {} = {}\".format(mult,numero, mult*numero))\n",
    "tabla_mult(int(input(\"Introduce el numero\")))"
   ]
  },
  {
   "cell_type": "code",
   "execution_count": null,
   "id": "c18bfe0e-1cec-4cd1-9413-03d572797ed4",
   "metadata": {},
   "outputs": [],
   "source": [
    "\n"
   ]
  }
 ],
 "metadata": {
  "kernelspec": {
   "display_name": "Python 3 (ipykernel)",
   "language": "python",
   "name": "python3"
  },
  "language_info": {
   "codemirror_mode": {
    "name": "ipython",
    "version": 3
   },
   "file_extension": ".py",
   "mimetype": "text/x-python",
   "name": "python",
   "nbconvert_exporter": "python",
   "pygments_lexer": "ipython3",
   "version": "3.9.13"
  }
 },
 "nbformat": 4,
 "nbformat_minor": 5
}
